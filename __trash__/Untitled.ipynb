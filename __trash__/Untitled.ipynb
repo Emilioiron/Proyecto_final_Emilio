{
 "cells": [
  {
   "cell_type": "code",
   "execution_count": 133,
   "metadata": {},
   "outputs": [],
   "source": [
    "import pandas as pd\n",
    "\n",
    "import matplotlib.pyplot as plt\n",
    "import seaborn as sns\n",
    "from IPython.display import set_matplotlib_formats\n",
    "from sklearn.externals import joblib"
   ]
  },
  {
   "cell_type": "code",
   "execution_count": 134,
   "metadata": {},
   "outputs": [
    {
     "data": {
      "text/html": [
       "<div>\n",
       "<style scoped>\n",
       "    .dataframe tbody tr th:only-of-type {\n",
       "        vertical-align: middle;\n",
       "    }\n",
       "\n",
       "    .dataframe tbody tr th {\n",
       "        vertical-align: top;\n",
       "    }\n",
       "\n",
       "    .dataframe thead th {\n",
       "        text-align: right;\n",
       "    }\n",
       "</style>\n",
       "<table border=\"1\" class=\"dataframe\">\n",
       "  <thead>\n",
       "    <tr style=\"text-align: right;\">\n",
       "      <th></th>\n",
       "      <th>Unnamed: 0</th>\n",
       "      <th>Unnamed: 0.1</th>\n",
       "      <th>Unnamed: 0.1.1</th>\n",
       "      <th>Basal Rate (U/h)</th>\n",
       "      <th>BWZ Estimate (U)</th>\n",
       "      <th>BWZ Carb Ratio (U/Ex)</th>\n",
       "      <th>BWZ Insulin Sensitivity (mg/dL/U)</th>\n",
       "      <th>BWZ Carb Input (exchanges)</th>\n",
       "      <th>BWZ BG Input (mg/dL)</th>\n",
       "      <th>BWZ Correction Estimate (U)</th>\n",
       "      <th>BWZ Food Estimate (U)</th>\n",
       "      <th>BWZ Active Insulin (U)</th>\n",
       "      <th>BWZ Unabsorbed Insulin Total (U)</th>\n",
       "      <th>day_of_month</th>\n",
       "      <th>day_of_week</th>\n",
       "      <th>month_of_year</th>\n",
       "      <th>hour</th>\n",
       "    </tr>\n",
       "  </thead>\n",
       "  <tbody>\n",
       "    <tr>\n",
       "      <th>0</th>\n",
       "      <td>0</td>\n",
       "      <td>0</td>\n",
       "      <td>16</td>\n",
       "      <td>2.2</td>\n",
       "      <td>9.5</td>\n",
       "      <td>1.5</td>\n",
       "      <td>50.0</td>\n",
       "      <td>9.5</td>\n",
       "      <td>84.0</td>\n",
       "      <td>0.2</td>\n",
       "      <td>23</td>\n",
       "      <td>0.1</td>\n",
       "      <td>0.5</td>\n",
       "      <td>22</td>\n",
       "      <td>2</td>\n",
       "      <td>4</td>\n",
       "      <td>18</td>\n",
       "    </tr>\n",
       "  </tbody>\n",
       "</table>\n",
       "</div>"
      ],
      "text/plain": [
       "   Unnamed: 0  Unnamed: 0.1  Unnamed: 0.1.1  Basal Rate (U/h)  \\\n",
       "0           0             0              16               2.2   \n",
       "\n",
       "   BWZ Estimate (U)  BWZ Carb Ratio (U/Ex)  BWZ Insulin Sensitivity (mg/dL/U)  \\\n",
       "0               9.5                    1.5                               50.0   \n",
       "\n",
       "   BWZ Carb Input (exchanges)  BWZ BG Input (mg/dL)  \\\n",
       "0                         9.5                  84.0   \n",
       "\n",
       "   BWZ Correction Estimate (U)  BWZ Food Estimate (U)  BWZ Active Insulin (U)  \\\n",
       "0                          0.2                     23                     0.1   \n",
       "\n",
       "   BWZ Unabsorbed Insulin Total (U)  day_of_month  day_of_week  month_of_year  \\\n",
       "0                               0.5            22            2              4   \n",
       "\n",
       "   hour  \n",
       "0    18  "
      ]
     },
     "execution_count": 134,
     "metadata": {},
     "output_type": "execute_result"
    }
   ],
   "source": [
    "model_pickle = joblib.load('../data/results/model.pkl')\n",
    "new_food = pd.read_csv('../data/results/New_data.csv')\n",
    "new_food\n"
   ]
  },
  {
   "cell_type": "code",
   "execution_count": 135,
   "metadata": {},
   "outputs": [
    {
     "data": {
      "text/plain": [
       "{'Unnamed: 0': {0: 0},\n",
       " 'Unnamed: 0.1': {0: 0},\n",
       " 'Unnamed: 0.1.1': {0: 16},\n",
       " 'Basal Rate (U/h)': {0: 2.2},\n",
       " 'BWZ Estimate (U)': {0: 9.5},\n",
       " 'BWZ Carb Ratio (U/Ex)': {0: 1.5},\n",
       " 'BWZ Insulin Sensitivity (mg/dL/U)': {0: 50.0},\n",
       " 'BWZ Carb Input (exchanges)': {0: 9.5},\n",
       " 'BWZ BG Input (mg/dL)': {0: 84.0},\n",
       " 'BWZ Correction Estimate (U)': {0: 0.2},\n",
       " 'BWZ Food Estimate (U)': {0: 23},\n",
       " 'BWZ Active Insulin (U)': {0: 0.1},\n",
       " 'BWZ Unabsorbed Insulin Total (U)': {0: 0.5},\n",
       " 'day_of_month': {0: 22},\n",
       " 'day_of_week': {0: 2},\n",
       " 'month_of_year': {0: 4},\n",
       " 'hour': {0: 18}}"
      ]
     },
     "execution_count": 135,
     "metadata": {},
     "output_type": "execute_result"
    }
   ],
   "source": [
    "new_food.to_dict()"
   ]
  },
  {
   "cell_type": "code",
   "execution_count": 136,
   "metadata": {},
   "outputs": [],
   "source": [
    "new_food_dict = {'Unnamed: 0': {0: 0},\n",
    "                 'Unnamed: 0.1': {0: 16},\n",
    "                 'Basal Rate (U/h)': {0: 2.2},\n",
    "                 'BWZ Estimate (U)': {0: 9.5},\n",
    "                 'BWZ Carb Ratio (U/Ex)': {0: 1.5},\n",
    "                 'BWZ Insulin Sensitivity (mg/dL/U)': {0: 50.0},\n",
    "                 'BWZ Carb Input (exchanges)': {0: 9.5},\n",
    "                 'BWZ BG Input (mg/dL)': {0: 84.0},\n",
    "                 'BWZ Correction Estimate (U)': {0: 0.2},\n",
    "                 'BWZ Food Estimate (U)': {0: 9.5},\n",
    "                 'BWZ Active Insulin (U)': {0: 0.1},\n",
    "                 'BWZ Unabsorbed Insulin Total (U)': {0: 0.5},\n",
    "                 'day_of_month': {0: 25},\n",
    "                 'day_of_week': {0: 2},\n",
    "                 'month_of_year': {0: 3},\n",
    "                 'hour': {0: 10}}"
   ]
  },
  {
   "cell_type": "code",
   "execution_count": 137,
   "metadata": {},
   "outputs": [
    {
     "data": {
      "text/plain": [
       "{'Unnamed: 0': {0: 0},\n",
       " 'Unnamed: 0.1': {0: 16},\n",
       " 'Basal Rate (U/h)': {0: 2.2},\n",
       " 'BWZ Estimate (U)': {0: 9.5},\n",
       " 'BWZ Carb Ratio (U/Ex)': {0: 1.5},\n",
       " 'BWZ Insulin Sensitivity (mg/dL/U)': {0: 50.0},\n",
       " 'BWZ Carb Input (exchanges)': {0: 9.5},\n",
       " 'BWZ BG Input (mg/dL)': {0: 84.0},\n",
       " 'BWZ Correction Estimate (U)': {0: 0.2},\n",
       " 'BWZ Food Estimate (U)': {0: 9.5},\n",
       " 'BWZ Active Insulin (U)': {0: 0.1},\n",
       " 'BWZ Unabsorbed Insulin Total (U)': {0: 0.5},\n",
       " 'day_of_month': {0: 25},\n",
       " 'day_of_week': {0: 2},\n",
       " 'month_of_year': {0: 3},\n",
       " 'hour': {0: 10}}"
      ]
     },
     "execution_count": 137,
     "metadata": {},
     "output_type": "execute_result"
    }
   ],
   "source": [
    "new_food_dict"
   ]
  },
  {
   "cell_type": "code",
   "execution_count": 143,
   "metadata": {},
   "outputs": [
    {
     "name": "stdout",
     "output_type": "stream",
     "text": [
      "4\n"
     ]
    }
   ],
   "source": [
    "food = int(input())"
   ]
  },
  {
   "cell_type": "code",
   "execution_count": 144,
   "metadata": {
    "scrolled": true
   },
   "outputs": [
    {
     "data": {
      "text/html": [
       "<div>\n",
       "<style scoped>\n",
       "    .dataframe tbody tr th:only-of-type {\n",
       "        vertical-align: middle;\n",
       "    }\n",
       "\n",
       "    .dataframe tbody tr th {\n",
       "        vertical-align: top;\n",
       "    }\n",
       "\n",
       "    .dataframe thead th {\n",
       "        text-align: right;\n",
       "    }\n",
       "</style>\n",
       "<table border=\"1\" class=\"dataframe\">\n",
       "  <thead>\n",
       "    <tr style=\"text-align: right;\">\n",
       "      <th></th>\n",
       "      <th>Unnamed: 0</th>\n",
       "      <th>Unnamed: 0.1</th>\n",
       "      <th>Unnamed: 0.1.1</th>\n",
       "      <th>Basal Rate (U/h)</th>\n",
       "      <th>BWZ Estimate (U)</th>\n",
       "      <th>BWZ Carb Ratio (U/Ex)</th>\n",
       "      <th>BWZ Insulin Sensitivity (mg/dL/U)</th>\n",
       "      <th>BWZ Carb Input (exchanges)</th>\n",
       "      <th>BWZ BG Input (mg/dL)</th>\n",
       "      <th>BWZ Correction Estimate (U)</th>\n",
       "      <th>BWZ Food Estimate (U)</th>\n",
       "      <th>BWZ Active Insulin (U)</th>\n",
       "      <th>BWZ Unabsorbed Insulin Total (U)</th>\n",
       "      <th>day_of_month</th>\n",
       "      <th>day_of_week</th>\n",
       "      <th>month_of_year</th>\n",
       "      <th>hour</th>\n",
       "    </tr>\n",
       "  </thead>\n",
       "  <tbody>\n",
       "    <tr>\n",
       "      <th>0</th>\n",
       "      <td>0</td>\n",
       "      <td>0</td>\n",
       "      <td>16</td>\n",
       "      <td>2.2</td>\n",
       "      <td>9.5</td>\n",
       "      <td>1.5</td>\n",
       "      <td>50.0</td>\n",
       "      <td>4</td>\n",
       "      <td>84.0</td>\n",
       "      <td>0.2</td>\n",
       "      <td>4</td>\n",
       "      <td>0.1</td>\n",
       "      <td>0.5</td>\n",
       "      <td>22</td>\n",
       "      <td>2</td>\n",
       "      <td>4</td>\n",
       "      <td>19</td>\n",
       "    </tr>\n",
       "  </tbody>\n",
       "</table>\n",
       "</div>"
      ],
      "text/plain": [
       "   Unnamed: 0  Unnamed: 0.1  Unnamed: 0.1.1  Basal Rate (U/h)  \\\n",
       "0           0             0              16               2.2   \n",
       "\n",
       "   BWZ Estimate (U)  BWZ Carb Ratio (U/Ex)  BWZ Insulin Sensitivity (mg/dL/U)  \\\n",
       "0               9.5                    1.5                               50.0   \n",
       "\n",
       "   BWZ Carb Input (exchanges)  BWZ BG Input (mg/dL)  \\\n",
       "0                           4                  84.0   \n",
       "\n",
       "   BWZ Correction Estimate (U)  BWZ Food Estimate (U)  BWZ Active Insulin (U)  \\\n",
       "0                          0.2                      4                     0.1   \n",
       "\n",
       "   BWZ Unabsorbed Insulin Total (U)  day_of_month  day_of_week  month_of_year  \\\n",
       "0                               0.5            22            2              4   \n",
       "\n",
       "   hour  \n",
       "0    19  "
      ]
     },
     "execution_count": 144,
     "metadata": {},
     "output_type": "execute_result"
    }
   ],
   "source": [
    "new_food_dict['day_of_month'][0] = date.today().day\n",
    "new_food_dict['month_of_year'][0] = date.today().month\n",
    "new_food_dict['hour'][0] = datetime.datetime.now().hour\n",
    "new_food_dict['day_of_week'][0] = datetime.datetime.today().weekday()\n",
    "new_food_dict['BWZ Carb Input (exchanges)'][0] =food\n",
    "new_food_dict['BWZ Food Estimate (U)'][0] =food\n",
    "\n",
    "pd.DataFrame(new_food_dict).to_csv('../data/results/new_food_today.csv')\n",
    "new_food_today = pd.read_csv('../data/results/new_food_today.csv')\n",
    "new_food_today"
   ]
  },
  {
   "cell_type": "code",
   "execution_count": 145,
   "metadata": {},
   "outputs": [
    {
     "name": "stdout",
     "output_type": "stream",
     "text": [
      "Te debes administrar 6.41 unidades de insulina\n"
     ]
    },
    {
     "name": "stderr",
     "output_type": "stream",
     "text": [
      "/home/emilio/miniconda3/envs/test_env/lib/python3.7/site-packages/sklearn/compose/_column_transformer.py:430: FutureWarning: Given feature/column names or counts do not match the ones for the data given during fit. This will fail from v0.24.\n",
      "  FutureWarning)\n"
     ]
    }
   ],
   "source": [
    "administrar_insulina = model_pickle.predict(new_food_today)\n",
    "#pd.DataFrame(administrar_insulina).to_csv('../data/results/administrar_insulina.csv')\n",
    "print(f'Te debes administrar ' + \n",
    "      pd.DataFrame(administrar_insulina).iloc[0, 0].round(2).astype(str) \n",
    "      + ' unidades de insulina')"
   ]
  },
  {
   "cell_type": "code",
   "execution_count": 92,
   "metadata": {},
   "outputs": [
    {
     "data": {
      "text/plain": [
       "datetime.datetime(2020, 4, 22, 19, 1, 23, 711443)"
      ]
     },
     "execution_count": 92,
     "metadata": {},
     "output_type": "execute_result"
    }
   ],
   "source": [
    "{'Unnamed: 0': {0: 0},\n",
    " 'Unnamed: 0.1': {0: 16},\n",
    " 'Basal Rate (U/h)': {0: 2.2},\n",
    " 'BWZ Estimate (U)': {0: 9.5},\n",
    " 'BWZ Carb Ratio (U/Ex)': {0: 1.5},\n",
    " 'BWZ Insulin Sensitivity (mg/dL/U)': {0: 50.0},\n",
    " 'BWZ Carb Input (exchanges)': {0: 9.5},\n",
    " 'BWZ BG Input (mg/dL)': {0: 84.0},\n",
    " 'BWZ Correction Estimate (U)': {0: 0.2},\n",
    " 'BWZ Food Estimate (U)': {0: '1'},\n",
    " 'BWZ Active Insulin (U)': {0: 0.1},\n",
    " 'BWZ Unabsorbed Insulin Total (U)': {0: 0.5},\n",
    " 'day_of_month': {0: 22},\n",
    " 'day_of_week': {0: 2},\n",
    " 'month_of_year': {0: 4},\n",
    " 'hour': {0: 17}}\n",
    "datetime.datetime.today()"
   ]
  },
  {
   "cell_type": "code",
   "execution_count": 46,
   "metadata": {},
   "outputs": [
    {
     "data": {
      "text/plain": [
       "2"
      ]
     },
     "execution_count": 46,
     "metadata": {},
     "output_type": "execute_result"
    }
   ],
   "source": [
    "#datetime.datetime.today().weekday()"
   ]
  },
  {
   "cell_type": "code",
   "execution_count": 94,
   "metadata": {},
   "outputs": [
    {
     "ename": "ValueError",
     "evalue": "Expected 2D array, got scalar array instead:\narray={'Unnamed: 0': {0: 0}, 'Unnamed: 0.1': {0: 16}, 'Basal Rate (U/h)': {0: 2.2}, 'BWZ Estimate (U)': {0: 9.5}, 'BWZ Carb Ratio (U/Ex)': {0: 1.5}, 'BWZ Insulin Sensitivity (mg/dL/U)': {0: 50.0}, 'BWZ Carb Input (exchanges)': {0: 9.5}, 'BWZ BG Input (mg/dL)': {0: 84.0}, 'BWZ Correction Estimate (U)': {0: 0.2}, 'BWZ Food Estimate (U)': {0: 9}, 'BWZ Active Insulin (U)': {0: 0.1}, 'BWZ Unabsorbed Insulin Total (U)': {0: 0.5}, 'day_of_month': {0: 22}, 'day_of_week': {0: 2}, 'month_of_year': {0: 4}, 'hour': {0: 19}}.\nReshape your data either using array.reshape(-1, 1) if your data has a single feature or array.reshape(1, -1) if it contains a single sample.",
     "output_type": "error",
     "traceback": [
      "\u001b[0;31m---------------------------------------------------------------------------\u001b[0m",
      "\u001b[0;31mValueError\u001b[0m                                Traceback (most recent call last)",
      "\u001b[0;32m<ipython-input-94-0e33075946b4>\u001b[0m in \u001b[0;36m<module>\u001b[0;34m\u001b[0m\n\u001b[0;32m----> 1\u001b[0;31m \u001b[0madministrar_insulina\u001b[0m \u001b[0;34m=\u001b[0m \u001b[0mmodel_pickle\u001b[0m\u001b[0;34m.\u001b[0m\u001b[0mpredict\u001b[0m\u001b[0;34m(\u001b[0m\u001b[0mnew\u001b[0m\u001b[0;34m)\u001b[0m\u001b[0;34m\u001b[0m\u001b[0;34m\u001b[0m\u001b[0m\n\u001b[0m\u001b[1;32m      2\u001b[0m \u001b[0mpd\u001b[0m\u001b[0;34m.\u001b[0m\u001b[0mDataFrame\u001b[0m\u001b[0;34m(\u001b[0m\u001b[0madministrar_insulina\u001b[0m\u001b[0;34m)\u001b[0m\u001b[0;34m.\u001b[0m\u001b[0mto_csv\u001b[0m\u001b[0;34m(\u001b[0m\u001b[0;34m'../data/results/administrar_insulina.csv'\u001b[0m\u001b[0;34m)\u001b[0m\u001b[0;34m\u001b[0m\u001b[0;34m\u001b[0m\u001b[0m\n\u001b[1;32m      3\u001b[0m print(f'Te debes administrar ' + \n\u001b[1;32m      4\u001b[0m       \u001b[0mpd\u001b[0m\u001b[0;34m.\u001b[0m\u001b[0mDataFrame\u001b[0m\u001b[0;34m(\u001b[0m\u001b[0madministrar_insulina\u001b[0m\u001b[0;34m)\u001b[0m\u001b[0;34m.\u001b[0m\u001b[0miloc\u001b[0m\u001b[0;34m[\u001b[0m\u001b[0;36m0\u001b[0m\u001b[0;34m,\u001b[0m \u001b[0;36m0\u001b[0m\u001b[0;34m]\u001b[0m\u001b[0;34m.\u001b[0m\u001b[0mround\u001b[0m\u001b[0;34m(\u001b[0m\u001b[0;36m2\u001b[0m\u001b[0;34m)\u001b[0m\u001b[0;34m.\u001b[0m\u001b[0mastype\u001b[0m\u001b[0;34m(\u001b[0m\u001b[0mstr\u001b[0m\u001b[0;34m)\u001b[0m\u001b[0;34m\u001b[0m\u001b[0;34m\u001b[0m\u001b[0m\n\u001b[1;32m      5\u001b[0m       + ' unidades de insulina')\n",
      "\u001b[0;32m~/miniconda3/envs/test_env/lib/python3.7/site-packages/sklearn/utils/metaestimators.py\u001b[0m in \u001b[0;36m<lambda>\u001b[0;34m(*args, **kwargs)\u001b[0m\n\u001b[1;32m    114\u001b[0m \u001b[0;34m\u001b[0m\u001b[0m\n\u001b[1;32m    115\u001b[0m         \u001b[0;31m# lambda, but not partial, allows help() to work with update_wrapper\u001b[0m\u001b[0;34m\u001b[0m\u001b[0;34m\u001b[0m\u001b[0;34m\u001b[0m\u001b[0m\n\u001b[0;32m--> 116\u001b[0;31m         \u001b[0mout\u001b[0m \u001b[0;34m=\u001b[0m \u001b[0;32mlambda\u001b[0m \u001b[0;34m*\u001b[0m\u001b[0margs\u001b[0m\u001b[0;34m,\u001b[0m \u001b[0;34m**\u001b[0m\u001b[0mkwargs\u001b[0m\u001b[0;34m:\u001b[0m \u001b[0mself\u001b[0m\u001b[0;34m.\u001b[0m\u001b[0mfn\u001b[0m\u001b[0;34m(\u001b[0m\u001b[0mobj\u001b[0m\u001b[0;34m,\u001b[0m \u001b[0;34m*\u001b[0m\u001b[0margs\u001b[0m\u001b[0;34m,\u001b[0m \u001b[0;34m**\u001b[0m\u001b[0mkwargs\u001b[0m\u001b[0;34m)\u001b[0m\u001b[0;34m\u001b[0m\u001b[0;34m\u001b[0m\u001b[0m\n\u001b[0m\u001b[1;32m    117\u001b[0m         \u001b[0;31m# update the docstring of the returned function\u001b[0m\u001b[0;34m\u001b[0m\u001b[0;34m\u001b[0m\u001b[0;34m\u001b[0m\u001b[0m\n\u001b[1;32m    118\u001b[0m         \u001b[0mupdate_wrapper\u001b[0m\u001b[0;34m(\u001b[0m\u001b[0mout\u001b[0m\u001b[0;34m,\u001b[0m \u001b[0mself\u001b[0m\u001b[0;34m.\u001b[0m\u001b[0mfn\u001b[0m\u001b[0;34m)\u001b[0m\u001b[0;34m\u001b[0m\u001b[0;34m\u001b[0m\u001b[0m\n",
      "\u001b[0;32m~/miniconda3/envs/test_env/lib/python3.7/site-packages/sklearn/pipeline.py\u001b[0m in \u001b[0;36mpredict\u001b[0;34m(self, X, **predict_params)\u001b[0m\n\u001b[1;32m    417\u001b[0m         \u001b[0mXt\u001b[0m \u001b[0;34m=\u001b[0m \u001b[0mX\u001b[0m\u001b[0;34m\u001b[0m\u001b[0;34m\u001b[0m\u001b[0m\n\u001b[1;32m    418\u001b[0m         \u001b[0;32mfor\u001b[0m \u001b[0m_\u001b[0m\u001b[0;34m,\u001b[0m \u001b[0mname\u001b[0m\u001b[0;34m,\u001b[0m \u001b[0mtransform\u001b[0m \u001b[0;32min\u001b[0m \u001b[0mself\u001b[0m\u001b[0;34m.\u001b[0m\u001b[0m_iter\u001b[0m\u001b[0;34m(\u001b[0m\u001b[0mwith_final\u001b[0m\u001b[0;34m=\u001b[0m\u001b[0;32mFalse\u001b[0m\u001b[0;34m)\u001b[0m\u001b[0;34m:\u001b[0m\u001b[0;34m\u001b[0m\u001b[0;34m\u001b[0m\u001b[0m\n\u001b[0;32m--> 419\u001b[0;31m             \u001b[0mXt\u001b[0m \u001b[0;34m=\u001b[0m \u001b[0mtransform\u001b[0m\u001b[0;34m.\u001b[0m\u001b[0mtransform\u001b[0m\u001b[0;34m(\u001b[0m\u001b[0mXt\u001b[0m\u001b[0;34m)\u001b[0m\u001b[0;34m\u001b[0m\u001b[0;34m\u001b[0m\u001b[0m\n\u001b[0m\u001b[1;32m    420\u001b[0m         \u001b[0;32mreturn\u001b[0m \u001b[0mself\u001b[0m\u001b[0;34m.\u001b[0m\u001b[0msteps\u001b[0m\u001b[0;34m[\u001b[0m\u001b[0;34m-\u001b[0m\u001b[0;36m1\u001b[0m\u001b[0;34m]\u001b[0m\u001b[0;34m[\u001b[0m\u001b[0;34m-\u001b[0m\u001b[0;36m1\u001b[0m\u001b[0;34m]\u001b[0m\u001b[0;34m.\u001b[0m\u001b[0mpredict\u001b[0m\u001b[0;34m(\u001b[0m\u001b[0mXt\u001b[0m\u001b[0;34m,\u001b[0m \u001b[0;34m**\u001b[0m\u001b[0mpredict_params\u001b[0m\u001b[0;34m)\u001b[0m\u001b[0;34m\u001b[0m\u001b[0;34m\u001b[0m\u001b[0m\n\u001b[1;32m    421\u001b[0m \u001b[0;34m\u001b[0m\u001b[0m\n",
      "\u001b[0;32m~/miniconda3/envs/test_env/lib/python3.7/site-packages/sklearn/compose/_column_transformer.py\u001b[0m in \u001b[0;36mtransform\u001b[0;34m(self, X)\u001b[0m\n\u001b[1;32m    558\u001b[0m         \"\"\"\n\u001b[1;32m    559\u001b[0m         \u001b[0mcheck_is_fitted\u001b[0m\u001b[0;34m(\u001b[0m\u001b[0mself\u001b[0m\u001b[0;34m)\u001b[0m\u001b[0;34m\u001b[0m\u001b[0;34m\u001b[0m\u001b[0m\n\u001b[0;32m--> 560\u001b[0;31m         \u001b[0mX\u001b[0m \u001b[0;34m=\u001b[0m \u001b[0m_check_X\u001b[0m\u001b[0;34m(\u001b[0m\u001b[0mX\u001b[0m\u001b[0;34m)\u001b[0m\u001b[0;34m\u001b[0m\u001b[0;34m\u001b[0m\u001b[0m\n\u001b[0m\u001b[1;32m    561\u001b[0m         \u001b[0;32mif\u001b[0m \u001b[0mhasattr\u001b[0m\u001b[0;34m(\u001b[0m\u001b[0mX\u001b[0m\u001b[0;34m,\u001b[0m \u001b[0;34m\"columns\"\u001b[0m\u001b[0;34m)\u001b[0m\u001b[0;34m:\u001b[0m\u001b[0;34m\u001b[0m\u001b[0;34m\u001b[0m\u001b[0m\n\u001b[1;32m    562\u001b[0m             \u001b[0mX_feature_names\u001b[0m \u001b[0;34m=\u001b[0m \u001b[0mnp\u001b[0m\u001b[0;34m.\u001b[0m\u001b[0masarray\u001b[0m\u001b[0;34m(\u001b[0m\u001b[0mX\u001b[0m\u001b[0;34m.\u001b[0m\u001b[0mcolumns\u001b[0m\u001b[0;34m)\u001b[0m\u001b[0;34m\u001b[0m\u001b[0;34m\u001b[0m\u001b[0m\n",
      "\u001b[0;32m~/miniconda3/envs/test_env/lib/python3.7/site-packages/sklearn/compose/_column_transformer.py\u001b[0m in \u001b[0;36m_check_X\u001b[0;34m(X)\u001b[0m\n\u001b[1;32m    628\u001b[0m     \u001b[0;32mif\u001b[0m \u001b[0mhasattr\u001b[0m\u001b[0;34m(\u001b[0m\u001b[0mX\u001b[0m\u001b[0;34m,\u001b[0m \u001b[0;34m'__array__'\u001b[0m\u001b[0;34m)\u001b[0m \u001b[0;32mor\u001b[0m \u001b[0msparse\u001b[0m\u001b[0;34m.\u001b[0m\u001b[0missparse\u001b[0m\u001b[0;34m(\u001b[0m\u001b[0mX\u001b[0m\u001b[0;34m)\u001b[0m\u001b[0;34m:\u001b[0m\u001b[0;34m\u001b[0m\u001b[0;34m\u001b[0m\u001b[0m\n\u001b[1;32m    629\u001b[0m         \u001b[0;32mreturn\u001b[0m \u001b[0mX\u001b[0m\u001b[0;34m\u001b[0m\u001b[0;34m\u001b[0m\u001b[0m\n\u001b[0;32m--> 630\u001b[0;31m     \u001b[0;32mreturn\u001b[0m \u001b[0mcheck_array\u001b[0m\u001b[0;34m(\u001b[0m\u001b[0mX\u001b[0m\u001b[0;34m,\u001b[0m \u001b[0mforce_all_finite\u001b[0m\u001b[0;34m=\u001b[0m\u001b[0;34m'allow-nan'\u001b[0m\u001b[0;34m,\u001b[0m \u001b[0mdtype\u001b[0m\u001b[0;34m=\u001b[0m\u001b[0mnp\u001b[0m\u001b[0;34m.\u001b[0m\u001b[0mobject\u001b[0m\u001b[0;34m)\u001b[0m\u001b[0;34m\u001b[0m\u001b[0;34m\u001b[0m\u001b[0m\n\u001b[0m\u001b[1;32m    631\u001b[0m \u001b[0;34m\u001b[0m\u001b[0m\n\u001b[1;32m    632\u001b[0m \u001b[0;34m\u001b[0m\u001b[0m\n",
      "\u001b[0;32m~/miniconda3/envs/test_env/lib/python3.7/site-packages/sklearn/utils/validation.py\u001b[0m in \u001b[0;36mcheck_array\u001b[0;34m(array, accept_sparse, accept_large_sparse, dtype, order, copy, force_all_finite, ensure_2d, allow_nd, ensure_min_samples, ensure_min_features, warn_on_dtype, estimator)\u001b[0m\n\u001b[1;32m    547\u001b[0m                     \u001b[0;34m\"Reshape your data either using array.reshape(-1, 1) if \"\u001b[0m\u001b[0;34m\u001b[0m\u001b[0;34m\u001b[0m\u001b[0m\n\u001b[1;32m    548\u001b[0m                     \u001b[0;34m\"your data has a single feature or array.reshape(1, -1) \"\u001b[0m\u001b[0;34m\u001b[0m\u001b[0;34m\u001b[0m\u001b[0m\n\u001b[0;32m--> 549\u001b[0;31m                     \"if it contains a single sample.\".format(array))\n\u001b[0m\u001b[1;32m    550\u001b[0m             \u001b[0;31m# If input is 1D raise error\u001b[0m\u001b[0;34m\u001b[0m\u001b[0;34m\u001b[0m\u001b[0;34m\u001b[0m\u001b[0m\n\u001b[1;32m    551\u001b[0m             \u001b[0;32mif\u001b[0m \u001b[0marray\u001b[0m\u001b[0;34m.\u001b[0m\u001b[0mndim\u001b[0m \u001b[0;34m==\u001b[0m \u001b[0;36m1\u001b[0m\u001b[0;34m:\u001b[0m\u001b[0;34m\u001b[0m\u001b[0;34m\u001b[0m\u001b[0m\n",
      "\u001b[0;31mValueError\u001b[0m: Expected 2D array, got scalar array instead:\narray={'Unnamed: 0': {0: 0}, 'Unnamed: 0.1': {0: 16}, 'Basal Rate (U/h)': {0: 2.2}, 'BWZ Estimate (U)': {0: 9.5}, 'BWZ Carb Ratio (U/Ex)': {0: 1.5}, 'BWZ Insulin Sensitivity (mg/dL/U)': {0: 50.0}, 'BWZ Carb Input (exchanges)': {0: 9.5}, 'BWZ BG Input (mg/dL)': {0: 84.0}, 'BWZ Correction Estimate (U)': {0: 0.2}, 'BWZ Food Estimate (U)': {0: 9}, 'BWZ Active Insulin (U)': {0: 0.1}, 'BWZ Unabsorbed Insulin Total (U)': {0: 0.5}, 'day_of_month': {0: 22}, 'day_of_week': {0: 2}, 'month_of_year': {0: 4}, 'hour': {0: 19}}.\nReshape your data either using array.reshape(-1, 1) if your data has a single feature or array.reshape(1, -1) if it contains a single sample."
     ]
    }
   ],
   "source": [
    "administrar_insulina = model_pickle.predict(new)\n",
    "pd.DataFrame(administrar_insulina).to_csv('../data/results/administrar_insulina.csv')\n",
    "print(f'Te debes administrar ' + \n",
    "      pd.DataFrame(administrar_insulina).iloc[0, 0].round(2).astype(str) \n",
    "      + ' unidades de insulina')"
   ]
  },
  {
   "cell_type": "code",
   "execution_count": null,
   "metadata": {},
   "outputs": [],
   "source": []
  }
 ],
 "metadata": {
  "kernelspec": {
   "display_name": "Python 3",
   "language": "python",
   "name": "python3"
  },
  "language_info": {
   "codemirror_mode": {
    "name": "ipython",
    "version": 3
   },
   "file_extension": ".py",
   "mimetype": "text/x-python",
   "name": "python",
   "nbconvert_exporter": "python",
   "pygments_lexer": "ipython3",
   "version": "3.7.5"
  }
 },
 "nbformat": 4,
 "nbformat_minor": 4
}
