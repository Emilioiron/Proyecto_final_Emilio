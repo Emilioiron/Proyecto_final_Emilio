{
 "cells": [
  {
   "cell_type": "code",
   "execution_count": 93,
   "metadata": {},
   "outputs": [],
   "source": [
    "import pandas as pd\n"
   ]
  },
  {
   "cell_type": "code",
   "execution_count": 94,
   "metadata": {},
   "outputs": [],
   "source": [
    "bomba_data = pd.read_csv('../data/processed/Data_train.csv')\n",
    "bomba_predict = pd.read_csv('../data/processed/Data_test.csv')"
   ]
  },
  {
   "cell_type": "code",
   "execution_count": 95,
   "metadata": {},
   "outputs": [],
   "source": [
    "from sklearn.pipeline import Pipeline\n",
    "from sklearn.compose import ColumnTransformer\n",
    "from sklearn.impute import SimpleImputer\n",
    "from sklearn.preprocessing import StandardScaler\n",
    "from sklearn.preprocessing import OneHotEncoder, OrdinalEncoder\n",
    "from sklearn.preprocessing import RobustScaler"
   ]
  },
  {
   "cell_type": "code",
   "execution_count": 96,
   "metadata": {},
   "outputs": [
    {
     "data": {
      "text/html": [
       "<div>\n",
       "<style scoped>\n",
       "    .dataframe tbody tr th:only-of-type {\n",
       "        vertical-align: middle;\n",
       "    }\n",
       "\n",
       "    .dataframe tbody tr th {\n",
       "        vertical-align: top;\n",
       "    }\n",
       "\n",
       "    .dataframe thead th {\n",
       "        text-align: right;\n",
       "    }\n",
       "</style>\n",
       "<table border=\"1\" class=\"dataframe\">\n",
       "  <thead>\n",
       "    <tr style=\"text-align: right;\">\n",
       "      <th></th>\n",
       "      <th>0</th>\n",
       "      <th>1</th>\n",
       "      <th>2</th>\n",
       "      <th>3</th>\n",
       "      <th>4</th>\n",
       "    </tr>\n",
       "  </thead>\n",
       "  <tbody>\n",
       "    <tr>\n",
       "      <th>Unnamed: 0</th>\n",
       "      <td>0.00</td>\n",
       "      <td>1.0</td>\n",
       "      <td>2.00</td>\n",
       "      <td>3.0</td>\n",
       "      <td>4.0</td>\n",
       "    </tr>\n",
       "    <tr>\n",
       "      <th>Basal Rate (U/h)</th>\n",
       "      <td>1.95</td>\n",
       "      <td>1.6</td>\n",
       "      <td>1.95</td>\n",
       "      <td>2.7</td>\n",
       "      <td>2.2</td>\n",
       "    </tr>\n",
       "    <tr>\n",
       "      <th>BWZ Estimate (U)</th>\n",
       "      <td>9.50</td>\n",
       "      <td>6.6</td>\n",
       "      <td>5.50</td>\n",
       "      <td>4.4</td>\n",
       "      <td>11.2</td>\n",
       "    </tr>\n",
       "    <tr>\n",
       "      <th>BWZ Carb Ratio (U/Ex)</th>\n",
       "      <td>1.00</td>\n",
       "      <td>1.9</td>\n",
       "      <td>1.00</td>\n",
       "      <td>1.1</td>\n",
       "      <td>1.5</td>\n",
       "    </tr>\n",
       "    <tr>\n",
       "      <th>BWZ Insulin Sensitivity (mg/dL/U)</th>\n",
       "      <td>45.00</td>\n",
       "      <td>45.0</td>\n",
       "      <td>45.00</td>\n",
       "      <td>45.0</td>\n",
       "      <td>45.0</td>\n",
       "    </tr>\n",
       "    <tr>\n",
       "      <th>BWZ Carb Input (exchanges)</th>\n",
       "      <td>9.50</td>\n",
       "      <td>3.5</td>\n",
       "      <td>5.50</td>\n",
       "      <td>4.0</td>\n",
       "      <td>7.5</td>\n",
       "    </tr>\n",
       "    <tr>\n",
       "      <th>BWZ BG Input (mg/dL)</th>\n",
       "      <td>84.00</td>\n",
       "      <td>111.0</td>\n",
       "      <td>99.00</td>\n",
       "      <td>97.0</td>\n",
       "      <td>75.0</td>\n",
       "    </tr>\n",
       "    <tr>\n",
       "      <th>BWZ Correction Estimate (U)</th>\n",
       "      <td>0.00</td>\n",
       "      <td>0.0</td>\n",
       "      <td>0.00</td>\n",
       "      <td>0.0</td>\n",
       "      <td>0.0</td>\n",
       "    </tr>\n",
       "    <tr>\n",
       "      <th>BWZ Food Estimate (U)</th>\n",
       "      <td>9.50</td>\n",
       "      <td>6.6</td>\n",
       "      <td>5.50</td>\n",
       "      <td>4.4</td>\n",
       "      <td>11.2</td>\n",
       "    </tr>\n",
       "    <tr>\n",
       "      <th>BWZ Active Insulin (U)</th>\n",
       "      <td>0.00</td>\n",
       "      <td>0.0</td>\n",
       "      <td>0.00</td>\n",
       "      <td>1.2</td>\n",
       "      <td>0.0</td>\n",
       "    </tr>\n",
       "    <tr>\n",
       "      <th>BWZ Unabsorbed Insulin Total (U)</th>\n",
       "      <td>0.00</td>\n",
       "      <td>0.0</td>\n",
       "      <td>0.00</td>\n",
       "      <td>0.0</td>\n",
       "      <td>0.0</td>\n",
       "    </tr>\n",
       "    <tr>\n",
       "      <th>day_of_month</th>\n",
       "      <td>25.00</td>\n",
       "      <td>25.0</td>\n",
       "      <td>24.00</td>\n",
       "      <td>24.0</td>\n",
       "      <td>24.0</td>\n",
       "    </tr>\n",
       "    <tr>\n",
       "      <th>day_of_week</th>\n",
       "      <td>2.00</td>\n",
       "      <td>2.0</td>\n",
       "      <td>1.00</td>\n",
       "      <td>1.0</td>\n",
       "      <td>1.0</td>\n",
       "    </tr>\n",
       "    <tr>\n",
       "      <th>month_of_year</th>\n",
       "      <td>3.00</td>\n",
       "      <td>3.0</td>\n",
       "      <td>3.00</td>\n",
       "      <td>3.0</td>\n",
       "      <td>3.0</td>\n",
       "    </tr>\n",
       "    <tr>\n",
       "      <th>hour</th>\n",
       "      <td>22.00</td>\n",
       "      <td>8.0</td>\n",
       "      <td>22.00</td>\n",
       "      <td>18.0</td>\n",
       "      <td>15.0</td>\n",
       "    </tr>\n",
       "  </tbody>\n",
       "</table>\n",
       "</div>"
      ],
      "text/plain": [
       "                                       0      1      2     3     4\n",
       "Unnamed: 0                          0.00    1.0   2.00   3.0   4.0\n",
       "Basal Rate (U/h)                    1.95    1.6   1.95   2.7   2.2\n",
       "BWZ Estimate (U)                    9.50    6.6   5.50   4.4  11.2\n",
       "BWZ Carb Ratio (U/Ex)               1.00    1.9   1.00   1.1   1.5\n",
       "BWZ Insulin Sensitivity (mg/dL/U)  45.00   45.0  45.00  45.0  45.0\n",
       "BWZ Carb Input (exchanges)          9.50    3.5   5.50   4.0   7.5\n",
       "BWZ BG Input (mg/dL)               84.00  111.0  99.00  97.0  75.0\n",
       "BWZ Correction Estimate (U)         0.00    0.0   0.00   0.0   0.0\n",
       "BWZ Food Estimate (U)               9.50    6.6   5.50   4.4  11.2\n",
       "BWZ Active Insulin (U)              0.00    0.0   0.00   1.2   0.0\n",
       "BWZ Unabsorbed Insulin Total (U)    0.00    0.0   0.00   0.0   0.0\n",
       "day_of_month                       25.00   25.0  24.00  24.0  24.0\n",
       "day_of_week                         2.00    2.0   1.00   1.0   1.0\n",
       "month_of_year                       3.00    3.0   3.00   3.0   3.0\n",
       "hour                               22.00    8.0  22.00  18.0  15.0"
      ]
     },
     "execution_count": 96,
     "metadata": {},
     "output_type": "execute_result"
    }
   ],
   "source": [
    "bomba_data.head().T"
   ]
  },
  {
   "cell_type": "code",
   "execution_count": 97,
   "metadata": {},
   "outputs": [
    {
     "data": {
      "image/png": "[encoded data removed]",
      "text/plain": [
       "<Figure size 720x504 with 1 Axes>"
      ]
     },
     "metadata": {
      "needs_background": "light"
     },
     "output_type": "display_data"
    }
   ],
   "source": [
    "bomba_data['BWZ Estimate (U)'].plot(kind='hist', bins=20, title='histogram', figsize=(10, 7));"
   ]
  },
  {
   "cell_type": "code",
   "execution_count": 98,
   "metadata": {},
   "outputs": [
    {
     "data": {
      "text/plain": [
       "['Unnamed: 0',\n",
       " 'Basal Rate (U/h)',\n",
       " 'BWZ Estimate (U)',\n",
       " 'BWZ Carb Ratio (U/Ex)',\n",
       " 'BWZ Insulin Sensitivity (mg/dL/U)',\n",
       " 'BWZ Carb Input (exchanges)',\n",
       " 'BWZ BG Input (mg/dL)',\n",
       " 'BWZ Correction Estimate (U)',\n",
       " 'BWZ Food Estimate (U)',\n",
       " 'BWZ Active Insulin (U)',\n",
       " 'BWZ Unabsorbed Insulin Total (U)',\n",
       " 'day_of_month',\n",
       " 'day_of_week',\n",
       " 'month_of_year',\n",
       " 'hour']"
      ]
     },
     "execution_count": 98,
     "metadata": {},
     "output_type": "execute_result"
    }
   ],
   "source": [
    "bomba_data.columns.tolist()"
   ]
  },
  {
   "cell_type": "code",
   "execution_count": 99,
   "metadata": {},
   "outputs": [
    {
     "data": {
      "text/plain": [
       "['Basal Rate (U/h)',\n",
       " 'BWZ Carb Ratio (U/Ex)',\n",
       " 'BWZ Insulin Sensitivity (mg/dL/U)',\n",
       " 'BWZ Carb Input (exchanges)',\n",
       " 'BWZ BG Input (mg/dL)',\n",
       " 'BWZ Correction Estimate (U)',\n",
       " 'BWZ Active Insulin (U)',\n",
       " 'BWZ Unabsorbed Insulin Total (U)',\n",
       " 'day_of_month',\n",
       " 'day_of_week',\n",
       " 'month_of_year',\n",
       " 'hour']"
      ]
     },
     "execution_count": 99,
     "metadata": {},
     "output_type": "execute_result"
    }
   ],
   "source": [
    "# Food estimate lo quitamos de la lista por correlación = 1 con BWZ Estimate (U)\n",
    "\n",
    "NUM_FEATS = ['Basal Rate (U/h)','BWZ Carb Ratio (U/Ex)','BWZ Insulin Sensitivity (mg/dL/U)',\n",
    "             'BWZ Carb Input (exchanges)', 'BWZ BG Input (mg/dL)','BWZ Correction Estimate (U)',\n",
    "             'BWZ Active Insulin (U)','BWZ Unabsorbed Insulin Total (U)']\n",
    "CAT_FEATS = ['day_of_month', 'day_of_week', 'month_of_year', 'hour']\n",
    "FEATS = NUM_FEATS + CAT_FEATS\n",
    "TARGET = 'BWZ Estimate (U)'\n",
    "FEATS"
   ]
  },
  {
   "cell_type": "code",
   "execution_count": 100,
   "metadata": {},
   "outputs": [
    {
     "data": {
      "image/png": "[encoded data removed]",
      "text/plain": [
       "<Figure size 720x504 with 1 Axes>"
      ]
     },
     "metadata": {
      "needs_background": "light"
     },
     "output_type": "display_data"
    }
   ],
   "source": [
    "bomba_data[TARGET].plot(kind='hist', bins=20, title='histogram', figsize=(10, 7));"
   ]
  },
  {
   "cell_type": "code",
   "execution_count": 101,
   "metadata": {},
   "outputs": [],
   "source": [
    "numeric_transformer = \\\n",
    "Pipeline(steps=[('imputer', SimpleImputer(strategy='median')), \n",
    "                ('scaler', StandardScaler())])"
   ]
  },
  {
   "cell_type": "code",
   "execution_count": 102,
   "metadata": {},
   "outputs": [],
   "source": [
    "# Probar strategy con mean y median\n",
    "categorical_transformer = \\\n",
    "Pipeline(steps=[('imputer', SimpleImputer(strategy='constant', fill_value='missing')),\n",
    "                ('onehot', OneHotEncoder(handle_unknown='ignore'))])"
   ]
  },
  {
   "cell_type": "code",
   "execution_count": 103,
   "metadata": {},
   "outputs": [
    {
     "data": {
      "text/plain": [
       "ColumnTransformer(n_jobs=None, remainder='drop', sparse_threshold=0.3,\n",
       "                  transformer_weights=None,\n",
       "                  transformers=[('num',\n",
       "                                 Pipeline(memory=None,\n",
       "                                          steps=[('imputer',\n",
       "                                                  SimpleImputer(add_indicator=False,\n",
       "                                                                copy=True,\n",
       "                                                                fill_value=None,\n",
       "                                                                missing_values=nan,\n",
       "                                                                strategy='median',\n",
       "                                                                verbose=0)),\n",
       "                                                 ('scaler',\n",
       "                                                  StandardScaler(copy=True,\n",
       "                                                                 with_mean=True,\n",
       "                                                                 with_std=True))],\n",
       "                                          verbose=False),\n",
       "                                 ['Basal Rate (U/h)', 'BWZ Carb Ratio (U/Ex)',\n",
       "                                  'BWZ Insulin Sensitivity (mg/dL/U)',\n",
       "                                  'BWZ Carb Input (exchanges)',\n",
       "                                  'BWZ BG Input (mg/dL)',\n",
       "                                  'BWZ Correction Estimate (U)',\n",
       "                                  'BWZ Active Insulin (U)',\n",
       "                                  'BWZ Unabsorbed Insulin Total (U)'])],\n",
       "                  verbose=False)"
      ]
     },
     "execution_count": 103,
     "metadata": {},
     "output_type": "execute_result"
    }
   ],
   "source": [
    "preprocessor = ColumnTransformer(transformers=[('num', numeric_transformer, NUM_FEATS)])\n",
    "preprocessor\n"
   ]
  },
  {
   "cell_type": "code",
   "execution_count": 104,
   "metadata": {},
   "outputs": [
    {
     "data": {
      "text/html": [
       "<div>\n",
       "<style scoped>\n",
       "    .dataframe tbody tr th:only-of-type {\n",
       "        vertical-align: middle;\n",
       "    }\n",
       "\n",
       "    .dataframe tbody tr th {\n",
       "        vertical-align: top;\n",
       "    }\n",
       "\n",
       "    .dataframe thead th {\n",
       "        text-align: right;\n",
       "    }\n",
       "</style>\n",
       "<table border=\"1\" class=\"dataframe\">\n",
       "  <thead>\n",
       "    <tr style=\"text-align: right;\">\n",
       "      <th></th>\n",
       "      <th>0</th>\n",
       "      <th>1</th>\n",
       "      <th>2</th>\n",
       "      <th>3</th>\n",
       "      <th>4</th>\n",
       "      <th>5</th>\n",
       "      <th>6</th>\n",
       "      <th>7</th>\n",
       "    </tr>\n",
       "  </thead>\n",
       "  <tbody>\n",
       "    <tr>\n",
       "      <th>0</th>\n",
       "      <td>4.112078</td>\n",
       "      <td>0.811676</td>\n",
       "      <td>-2.058106</td>\n",
       "      <td>1.586585</td>\n",
       "      <td>-1.180318</td>\n",
       "      <td>-0.190357</td>\n",
       "      <td>-0.410317</td>\n",
       "      <td>-0.097593</td>\n",
       "    </tr>\n",
       "    <tr>\n",
       "      <th>1</th>\n",
       "      <td>2.753731</td>\n",
       "      <td>6.019288</td>\n",
       "      <td>-2.058106</td>\n",
       "      <td>-0.808604</td>\n",
       "      <td>0.661402</td>\n",
       "      <td>-0.190357</td>\n",
       "      <td>-0.410317</td>\n",
       "      <td>-0.097593</td>\n",
       "    </tr>\n",
       "    <tr>\n",
       "      <th>2</th>\n",
       "      <td>4.112078</td>\n",
       "      <td>0.811676</td>\n",
       "      <td>-2.058106</td>\n",
       "      <td>-0.010208</td>\n",
       "      <td>-0.157141</td>\n",
       "      <td>-0.190357</td>\n",
       "      <td>-0.410317</td>\n",
       "      <td>-0.097593</td>\n",
       "    </tr>\n",
       "    <tr>\n",
       "      <th>3</th>\n",
       "      <td>7.022822</td>\n",
       "      <td>1.390300</td>\n",
       "      <td>-2.058106</td>\n",
       "      <td>-0.609005</td>\n",
       "      <td>-0.293564</td>\n",
       "      <td>-0.190357</td>\n",
       "      <td>1.086021</td>\n",
       "      <td>-0.097593</td>\n",
       "    </tr>\n",
       "    <tr>\n",
       "      <th>4</th>\n",
       "      <td>5.082326</td>\n",
       "      <td>3.704794</td>\n",
       "      <td>-2.058106</td>\n",
       "      <td>0.788188</td>\n",
       "      <td>-1.794225</td>\n",
       "      <td>-0.190357</td>\n",
       "      <td>-0.410317</td>\n",
       "      <td>-0.097593</td>\n",
       "    </tr>\n",
       "  </tbody>\n",
       "</table>\n",
       "</div>"
      ],
      "text/plain": [
       "          0         1         2         3         4         5         6  \\\n",
       "0  4.112078  0.811676 -2.058106  1.586585 -1.180318 -0.190357 -0.410317   \n",
       "1  2.753731  6.019288 -2.058106 -0.808604  0.661402 -0.190357 -0.410317   \n",
       "2  4.112078  0.811676 -2.058106 -0.010208 -0.157141 -0.190357 -0.410317   \n",
       "3  7.022822  1.390300 -2.058106 -0.609005 -0.293564 -0.190357  1.086021   \n",
       "4  5.082326  3.704794 -2.058106  0.788188 -1.794225 -0.190357 -0.410317   \n",
       "\n",
       "          7  \n",
       "0 -0.097593  \n",
       "1 -0.097593  \n",
       "2 -0.097593  \n",
       "3 -0.097593  \n",
       "4 -0.097593  "
      ]
     },
     "execution_count": 104,
     "metadata": {},
     "output_type": "execute_result"
    }
   ],
   "source": [
    "pd.DataFrame(data=preprocessor.fit_transform(bomba_data)).head()"
   ]
  },
  {
   "cell_type": "code",
   "execution_count": 105,
   "metadata": {},
   "outputs": [
    {
     "data": {
      "text/plain": [
       "ColumnTransformer(n_jobs=None, remainder='drop', sparse_threshold=0.3,\n",
       "                  transformer_weights=None,\n",
       "                  transformers=[('num',\n",
       "                                 Pipeline(memory=None,\n",
       "                                          steps=[('imputer',\n",
       "                                                  SimpleImputer(add_indicator=False,\n",
       "                                                                copy=True,\n",
       "                                                                fill_value=None,\n",
       "                                                                missing_values=nan,\n",
       "                                                                strategy='median',\n",
       "                                                                verbose=0)),\n",
       "                                                 ('scaler',\n",
       "                                                  StandardScaler(copy=True,\n",
       "                                                                 with_mean=True,\n",
       "                                                                 with_std=True))],\n",
       "                                          verbose=False),\n",
       "                                 ['Basal Rate (U/h)', 'BWZ Carb Ratio (U/Ex)',\n",
       "                                  'BWZ Insulin Sensitivity (mg/dL/U)',\n",
       "                                  'BWZ Carb Input (exchanges)',\n",
       "                                  'BWZ BG Input (mg/dL)',\n",
       "                                  'BWZ Correction Estimate (U)',\n",
       "                                  'BWZ Active Insulin (U)',\n",
       "                                  'BWZ Unabsorbed Insulin Total (U)'])],\n",
       "                  verbose=False)"
      ]
     },
     "execution_count": 105,
     "metadata": {},
     "output_type": "execute_result"
    }
   ],
   "source": [
    "preprocessor"
   ]
  },
  {
   "cell_type": "code",
   "execution_count": 106,
   "metadata": {},
   "outputs": [],
   "source": [
    "from sklearn.model_selection import train_test_split"
   ]
  },
  {
   "cell_type": "code",
   "execution_count": 107,
   "metadata": {},
   "outputs": [],
   "source": [
    "bomba_train, bomba_test = train_test_split(bomba_data) \n",
    "#falta por introducir el y_train y el y_test"
   ]
  },
  {
   "cell_type": "code",
   "execution_count": 108,
   "metadata": {},
   "outputs": [
    {
     "name": "stdout",
     "output_type": "stream",
     "text": [
      "(2625, 15)\n",
      "(875, 15)\n",
      "(2625,)\n",
      "(875,)\n"
     ]
    }
   ],
   "source": [
    "print(bomba_train.shape)\n",
    "print(bomba_test.shape)\n",
    "print(y_train.shape)\n",
    "print(y_test.shape)"
   ]
  },
  {
   "cell_type": "code",
   "execution_count": 109,
   "metadata": {},
   "outputs": [],
   "source": [
    "from sklearn.linear_model import Lasso\n",
    "from sklearn.ensemble import RandomForestRegressor\n",
    "\n",
    "model= Pipeline(steps=[('preprocessor', preprocessor),\n",
    "                       ('regressor', RandomForestRegressor())])"
   ]
  },
  {
   "cell_type": "code",
   "execution_count": 110,
   "metadata": {},
   "outputs": [],
   "source": [
    "model.fit(bomba_train[FEATS], bomba_train[TARGET]);"
   ]
  },
  {
   "cell_type": "code",
   "execution_count": null,
   "metadata": {},
   "outputs": [],
   "source": []
  },
  {
   "cell_type": "code",
   "execution_count": 111,
   "metadata": {},
   "outputs": [],
   "source": [
    "from sklearn.metrics import mean_squared_error\n",
    "from sklearn.metrics import r2_score"
   ]
  },
  {
   "cell_type": "code",
   "execution_count": 112,
   "metadata": {},
   "outputs": [
    {
     "name": "stdout",
     "output_type": "stream",
     "text": [
      "(2625,)\n",
      "(875,)\n"
     ]
    }
   ],
   "source": [
    "y_train = model.predict(bomba_train[FEATS])\n",
    "y_test = model.predict(bomba_test[FEATS])\n",
    "\n",
    "print(y_train.shape)\n",
    "print(y_test.shape)"
   ]
  },
  {
   "cell_type": "code",
   "execution_count": 113,
   "metadata": {},
   "outputs": [
    {
     "name": "stdout",
     "output_type": "stream",
     "text": [
      "test error: 0.12629524139887427\n",
      "train error: 0.036872857484166036\n"
     ]
    }
   ],
   "source": [
    "print(f\"test error: {mean_squared_error(y_pred=y_test, y_true=bomba_test[TARGET], squared=False)}\")\n",
    "print(f\"train error: {mean_squared_error(y_pred=y_train, y_true=bomba_train[TARGET], squared=False)}\")"
   ]
  },
  {
   "cell_type": "code",
   "execution_count": 114,
   "metadata": {},
   "outputs": [
    {
     "data": {
      "text/plain": [
       "0.9969897707319062"
      ]
     },
     "execution_count": 114,
     "metadata": {},
     "output_type": "execute_result"
    }
   ],
   "source": [
    "# Calculo del error metrica r2_score\n",
    "r2_score(y_true = bomba_test[TARGET], y_pred = y_test)"
   ]
  },
  {
   "cell_type": "code",
   "execution_count": 115,
   "metadata": {},
   "outputs": [],
   "source": [
    "from sklearn.model_selection import cross_val_score"
   ]
  },
  {
   "cell_type": "code",
   "execution_count": 116,
   "metadata": {},
   "outputs": [],
   "source": [
    "scores = cross_val_score(model, \n",
    "                         bomba_data[FEATS], \n",
    "                         bomba_data[TARGET], \n",
    "                         scoring='neg_root_mean_squared_error', \n",
    "                         cv=16, n_jobs=-1)"
   ]
  },
  {
   "cell_type": "code",
   "execution_count": 117,
   "metadata": {},
   "outputs": [
    {
     "data": {
      "text/plain": [
       "0.18362546594239526"
      ]
     },
     "execution_count": 117,
     "metadata": {},
     "output_type": "execute_result"
    }
   ],
   "source": [
    "import numpy as np\n",
    "np.mean(-scores)"
   ]
  },
  {
   "cell_type": "code",
   "execution_count": 118,
   "metadata": {},
   "outputs": [
    {
     "name": "stdout",
     "output_type": "stream",
     "text": [
      "[1.91758492 0.17643058 0.04929568 0.02200394 0.01501248 0.0559511\n",
      " 0.06255613 0.05989134 0.04955657 0.03871798 0.06952326 0.0240097\n",
      " 0.1233361  0.16004178 0.04390017 0.07019573]\n"
     ]
    }
   ],
   "source": [
    "print(-scores)\n"
   ]
  },
  {
   "cell_type": "code",
   "execution_count": null,
   "metadata": {},
   "outputs": [],
   "source": []
  },
  {
   "cell_type": "code",
   "execution_count": 119,
   "metadata": {},
   "outputs": [],
   "source": [
    "from sklearn.model_selection import RandomizedSearchCV"
   ]
  },
  {
   "cell_type": "code",
   "execution_count": 120,
   "metadata": {},
   "outputs": [
    {
     "name": "stdout",
     "output_type": "stream",
     "text": [
      "Fitting 5 folds for each of 32 candidates, totalling 160 fits\n"
     ]
    },
    {
     "name": "stderr",
     "output_type": "stream",
     "text": [
      "[Parallel(n_jobs=-1)]: Using backend LokyBackend with 4 concurrent workers.\n",
      "[Parallel(n_jobs=-1)]: Done   5 tasks      | elapsed:    0.4s\n",
      "[Parallel(n_jobs=-1)]: Done  10 tasks      | elapsed:    0.6s\n",
      "[Parallel(n_jobs=-1)]: Done  17 tasks      | elapsed:    1.5s\n",
      "[Parallel(n_jobs=-1)]: Done  24 tasks      | elapsed:    1.8s\n",
      "[Parallel(n_jobs=-1)]: Done  33 tasks      | elapsed:    7.4s\n",
      "[Parallel(n_jobs=-1)]: Done  42 tasks      | elapsed:   12.3s\n",
      "[Parallel(n_jobs=-1)]: Done  53 tasks      | elapsed:   16.5s\n",
      "[Parallel(n_jobs=-1)]: Done  64 tasks      | elapsed:   18.1s\n",
      "[Parallel(n_jobs=-1)]: Done  77 tasks      | elapsed:   22.1s\n",
      "[Parallel(n_jobs=-1)]: Done  90 tasks      | elapsed:   26.8s\n",
      "[Parallel(n_jobs=-1)]: Done 105 tasks      | elapsed:   33.4s\n",
      "[Parallel(n_jobs=-1)]: Done 120 tasks      | elapsed:   36.3s\n",
      "[Parallel(n_jobs=-1)]: Done 137 tasks      | elapsed:   39.3s\n",
      "[Parallel(n_jobs=-1)]: Done 160 out of 160 | elapsed:   46.0s finished\n"
     ]
    },
    {
     "data": {
      "text/plain": [
       "RandomizedSearchCV(cv=5, error_score=nan,\n",
       "                   estimator=Pipeline(memory=None,\n",
       "                                      steps=[('preprocessor',\n",
       "                                              ColumnTransformer(n_jobs=None,\n",
       "                                                                remainder='drop',\n",
       "                                                                sparse_threshold=0.3,\n",
       "                                                                transformer_weights=None,\n",
       "                                                                transformers=[('num',\n",
       "                                                                               Pipeline(memory=None,\n",
       "                                                                                        steps=[('imputer',\n",
       "                                                                                                SimpleImputer(add_indicator=False,\n",
       "                                                                                                              copy=True,\n",
       "                                                                                                              fill_value=None,\n",
       "                                                                                                              missing_values=nan,\n",
       "                                                                                                              strategy='median',\n",
       "                                                                                                              verbos...\n",
       "                   param_distributions={'preprocessor__num__imputer__strategy': ['mean',\n",
       "                                                                                 'median',\n",
       "                                                                                 'most_frequent',\n",
       "                                                                                 'constant'],\n",
       "                                        'regressor__max_depth': [4, 8, 16, 32],\n",
       "                                        'regressor__max_features': ['auto',\n",
       "                                                                    'sqrt'],\n",
       "                                        'regressor__n_estimators': [8, 16, 64,\n",
       "                                                                    128, 256,\n",
       "                                                                    512]},\n",
       "                   pre_dispatch='2*n_jobs', random_state=None, refit=True,\n",
       "                   return_train_score=False,\n",
       "                   scoring='neg_root_mean_squared_error', verbose=10)"
      ]
     },
     "execution_count": 120,
     "metadata": {},
     "output_type": "execute_result"
    }
   ],
   "source": [
    "param_grid = {\n",
    "    'preprocessor__num__imputer__strategy': ['mean', 'median','most_frequent','constant'],\n",
    "    'regressor__n_estimators': [8,16,64,128,256,512],\n",
    "    'regressor__max_depth': [4,8,16,32],\n",
    "    'regressor__max_features': ['auto', 'sqrt']\n",
    "}\n",
    "\n",
    "grid_search = RandomizedSearchCV(model, \n",
    "                                 param_grid, \n",
    "                                 cv=5, \n",
    "                                 verbose=10, \n",
    "                                 scoring='neg_root_mean_squared_error', \n",
    "                                 n_jobs=-1,\n",
    "                                 n_iter=32)\n",
    "\n",
    "grid_search.fit(bomba_data[FEATS], bomba_data[TARGET])"
   ]
  },
  {
   "cell_type": "code",
   "execution_count": 121,
   "metadata": {},
   "outputs": [
    {
     "data": {
      "text/plain": [
       "{'regressor__n_estimators': 8,\n",
       " 'regressor__max_features': 'auto',\n",
       " 'regressor__max_depth': 32,\n",
       " 'preprocessor__num__imputer__strategy': 'constant'}"
      ]
     },
     "execution_count": 121,
     "metadata": {},
     "output_type": "execute_result"
    }
   ],
   "source": [
    "grid_search.best_params_"
   ]
  },
  {
   "cell_type": "code",
   "execution_count": 122,
   "metadata": {},
   "outputs": [
    {
     "data": {
      "text/plain": [
       "-0.28100261548412064"
      ]
     },
     "execution_count": 122,
     "metadata": {},
     "output_type": "execute_result"
    }
   ],
   "source": [
    "grid_search.best_score_"
   ]
  },
  {
   "cell_type": "code",
   "execution_count": 123,
   "metadata": {},
   "outputs": [
    {
     "data": {
      "image/png": "[encoded data removed]",
      "text/plain": [
       "<Figure size 720x504 with 1 Axes>"
      ]
     },
     "metadata": {
      "needs_background": "light"
     },
     "output_type": "display_data"
    }
   ],
   "source": [
    "bomba_data[TARGET].plot(kind='hist', bins=20, title='histogram', figsize=(10, 7));"
   ]
  },
  {
   "cell_type": "code",
   "execution_count": 127,
   "metadata": {},
   "outputs": [
    {
     "data": {
      "text/html": [
       "<div>\n",
       "<style scoped>\n",
       "    .dataframe tbody tr th:only-of-type {\n",
       "        vertical-align: middle;\n",
       "    }\n",
       "\n",
       "    .dataframe tbody tr th {\n",
       "        vertical-align: top;\n",
       "    }\n",
       "\n",
       "    .dataframe thead th {\n",
       "        text-align: right;\n",
       "    }\n",
       "</style>\n",
       "<table border=\"1\" class=\"dataframe\">\n",
       "  <thead>\n",
       "    <tr style=\"text-align: right;\">\n",
       "      <th></th>\n",
       "      <th>0</th>\n",
       "    </tr>\n",
       "  </thead>\n",
       "  <tbody>\n",
       "    <tr>\n",
       "      <th>0</th>\n",
       "      <td>8.546</td>\n",
       "    </tr>\n",
       "    <tr>\n",
       "      <th>1</th>\n",
       "      <td>1.600</td>\n",
       "    </tr>\n",
       "    <tr>\n",
       "      <th>2</th>\n",
       "      <td>6.600</td>\n",
       "    </tr>\n",
       "    <tr>\n",
       "      <th>3</th>\n",
       "      <td>2.600</td>\n",
       "    </tr>\n",
       "    <tr>\n",
       "      <th>4</th>\n",
       "      <td>5.000</td>\n",
       "    </tr>\n",
       "    <tr>\n",
       "      <th>...</th>\n",
       "      <td>...</td>\n",
       "    </tr>\n",
       "    <tr>\n",
       "      <th>870</th>\n",
       "      <td>10.806</td>\n",
       "    </tr>\n",
       "    <tr>\n",
       "      <th>871</th>\n",
       "      <td>4.900</td>\n",
       "    </tr>\n",
       "    <tr>\n",
       "      <th>872</th>\n",
       "      <td>2.403</td>\n",
       "    </tr>\n",
       "    <tr>\n",
       "      <th>873</th>\n",
       "      <td>1.500</td>\n",
       "    </tr>\n",
       "    <tr>\n",
       "      <th>874</th>\n",
       "      <td>3.200</td>\n",
       "    </tr>\n",
       "  </tbody>\n",
       "</table>\n",
       "<p>875 rows × 1 columns</p>\n",
       "</div>"
      ],
      "text/plain": [
       "          0\n",
       "0     8.546\n",
       "1     1.600\n",
       "2     6.600\n",
       "3     2.600\n",
       "4     5.000\n",
       "..      ...\n",
       "870  10.806\n",
       "871   4.900\n",
       "872   2.403\n",
       "873   1.500\n",
       "874   3.200\n",
       "\n",
       "[875 rows x 1 columns]"
      ]
     },
     "execution_count": 127,
     "metadata": {},
     "output_type": "execute_result"
    }
   ],
   "source": [
    "y_test = pd.DataFrame(y_test)\n",
    "y_test"
   ]
  },
  {
   "cell_type": "code",
   "execution_count": 128,
   "metadata": {},
   "outputs": [
    {
     "data": {
      "image/png": "[encoded data removed]",
      "text/plain": [
       "<Figure size 720x504 with 1 Axes>"
      ]
     },
     "metadata": {
      "needs_background": "light"
     },
     "output_type": "display_data"
    }
   ],
   "source": [
    "y_test.plot(kind='hist', bins=20, title='histogram', figsize=(10, 7));"
   ]
  },
  {
   "cell_type": "code",
   "execution_count": null,
   "metadata": {},
   "outputs": [],
   "source": []
  }
 ],
 "metadata": {
  "kernelspec": {
   "display_name": "Python 3",
   "language": "python",
   "name": "python3"
  },
  "language_info": {
   "codemirror_mode": {
    "name": "ipython",
    "version": 3
   },
   "file_extension": ".py",
   "mimetype": "text/x-python",
   "name": "python",
   "nbconvert_exporter": "python",
   "pygments_lexer": "ipython3",
   "version": "3.7.5"
  }
 },
 "nbformat": 4,
 "nbformat_minor": 4
}
