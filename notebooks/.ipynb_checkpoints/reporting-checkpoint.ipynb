{
 "cells": [
  {
   "cell_type": "code",
   "execution_count": 97,
   "metadata": {},
   "outputs": [],
   "source": [
    "import pandas as pd\n",
    "\n",
    "import matplotlib.pyplot as plt\n",
    "import seaborn as sns\n",
    "from IPython.display import set_matplotlib_formats\n",
    "from sklearn.externals import joblib\n",
    "\n",
    "set_matplotlib_formats('svg')\n",
    "sns.set_style('whitegrid')"
   ]
  },
  {
   "cell_type": "code",
   "execution_count": null,
   "metadata": {},
   "outputs": [],
   "source": [
    "Data = pd.read_csv('../data/processed/Data.csv')\n"
   ]
  },
  {
   "cell_type": "code",
   "execution_count": null,
   "metadata": {},
   "outputs": [],
   "source": [
    "Data"
   ]
  },
  {
   "cell_type": "code",
   "execution_count": null,
   "metadata": {},
   "outputs": [],
   "source": [
    "# Plot datos con filtro, eliminadas las lecturas bjas y altas de glucosa en sangre\n",
    "Data['BWZ BG Input (mg/dL)'].hist(figsize=(10, 5), bins=100);"
   ]
  },
  {
   "cell_type": "code",
   "execution_count": null,
   "metadata": {},
   "outputs": [],
   "source": [
    "#Carbohidrados tomados por raciones\n",
    "Data['BWZ Carb Input (exchanges)'].hist(figsize=(8, 4), bins=100);"
   ]
  },
  {
   "cell_type": "code",
   "execution_count": null,
   "metadata": {},
   "outputs": [],
   "source": [
    "sns.distplot(Data['BWZ Carb Input (exchanges)'], bins=40);"
   ]
  },
  {
   "cell_type": "code",
   "execution_count": null,
   "metadata": {},
   "outputs": [],
   "source": [
    "# Ordenado por hora para visualización\n",
    "Data['hour'] = Data['hour'].astype(int)\n",
    "by_hour = Data.sort_values('hour')\n",
    "by_hour_mean = by_hour.groupby(['hour']).mean()\n",
    "\n",
    "\n",
    "by_day_of_week = Data.sort_values('hour')\n",
    "by_day_of_week_mean = by_day_of_week.groupby(['day_of_week']).mean()\n"
   ]
  },
  {
   "cell_type": "code",
   "execution_count": null,
   "metadata": {},
   "outputs": [],
   "source": [
    "\n",
    "sns.set(style=\"whitegrid\") # Estilo trazado\n",
    "\n",
    "fig = plt.figure(figsize=(8, 4))\n",
    "ax = sns.barplot(x='hour', y='BWZ Carb Input (exchanges)', data= by_hour)"
   ]
  },
  {
   "cell_type": "code",
   "execution_count": null,
   "metadata": {},
   "outputs": [],
   "source": [
    "fig, (ax1, ax2) = plt.subplots(figsize=(12, 10), nrows=2, ncols=1)\n",
    "\n",
    "\n",
    "\n",
    "ax1.bar(by_hour_mean.index, by_hour_mean['BWZ Carb Input (exchanges)'])\n",
    "labels = ax1.get_xticklabels()\n",
    "ax1.set_xlabel('Hour')\n",
    "ax1.set_ylabel('Carb Input.U insulin')\n",
    "ax1.set_title(r'HISTOGRAMA', fontsize=20)\n",
    "\n",
    "\n",
    "\n",
    "ax2.bar(by_hour_mean.index, by_hour_mean['BWZ Estimate (U)'])\n",
    "ax2.set_xticklabels(ax.get_xticklabels(all),rotation=45)\n",
    "ax2.set_xlabel('Hour')\n",
    "ax2.set_ylabel('BWZ Estimate (U)')\n",
    "ax2.set_title(r'HISTOGRAMA', fontsize=20)\n",
    "\n",
    "plt.tight_layout()\n",
    "plt.show()\n"
   ]
  },
  {
   "cell_type": "code",
   "execution_count": null,
   "metadata": {},
   "outputs": [],
   "source": [
    "fig, (ax1, ax2) = plt.subplots(figsize=(12, 10), nrows=2, ncols=1)\n",
    "\n",
    "\n",
    "\n",
    "ax1.bar(by_day_of_week_mean.index, by_day_of_week_mean['BWZ Carb Input (exchanges)'])\n",
    "labels = ax1.get_xticklabels()\n",
    "ax1.set_xlabel('Hour')\n",
    "ax1.set_ylabel('Carb Input.U insulin')\n",
    "ax1.set_title(r'HISTOGRAMA')\n",
    "\n",
    "\n",
    "\n",
    "ax2.bar(by_day_of_week_mean.index, by_day_of_week_mean['BWZ Estimate (U)'])\n",
    "#labels = ax.get_xticklabels()\n",
    "ax2.set_xlabel('Hour')\n",
    "ax2.set_ylabel('BWZ Estimate (U)')\n",
    "ax2.set_title(r'HISTOGRAMA')\n",
    "\n",
    "plt.tight_layout()\n",
    "plt.show()\n"
   ]
  },
  {
   "cell_type": "code",
   "execution_count": null,
   "metadata": {},
   "outputs": [],
   "source": [
    "# Visualización de los carbohiddratos a comer y la insulina a administrar según el día de la semana\n",
    "day_of_week = ['L','M','X', 'J','V','S','D']\n",
    "plt.subplots(figsize=(10, 5))\n",
    "plt.plot( day_of_week, 'BWZ Carb Input (exchanges)', data=by_day_of_week_mean, marker='o', \n",
    "         markerfacecolor='blue', markersize=8, color='skyblue', linewidth=2)\n",
    "plt.plot( day_of_week, 'BWZ Estimate (U)', data=by_day_of_week_mean, marker='o', color='olive', linewidth=2)\n",
    "plt.title('Influencia de Carbohidratos tomados en la Insulina administrada por día de la semana', fontsize = 20)\n",
    "plt.xlabel('Día de la semana')\n",
    "plt.ylabel('Unidades')\n",
    "\n",
    "plt.legend()\n"
   ]
  },
  {
   "cell_type": "code",
   "execution_count": null,
   "metadata": {},
   "outputs": [],
   "source": [
    "fig, ax = plt.subplots(figsize=(8, 4))\n",
    "\n",
    "ax = Data['BWZ Carb Input (exchanges)'].hist(bins=100);\n",
    "\n",
    "ax.set_xlabel('Carb Input (U insulin)')\n",
    "ax.set_ylabel('Frecuency')\n",
    "ax.set_title(r'HISTOGRAMA')"
   ]
  },
  {
   "cell_type": "code",
   "execution_count": null,
   "metadata": {},
   "outputs": [],
   "source": [
    "\n",
    "fig, ax = plt.subplots(figsize =(10,5))\n",
    "#ax.plot(bins =100, '--')\n",
    "ax.bar(Data['hour'],Data['BWZ BG Input (mg/dL)'])\n",
    "#labels = ax.get_xticklabels()\n",
    "plt.setp(labels, rotation=45);\n",
    "plt.show()\n",
    "\n",
    "\n",
    "#ax.set_xlabel('Smarts')\n",
    "#ax.set_ylabel('Probability density')\n",
    "#ax.set_title(r'Histogram prueba')"
   ]
  },
  {
   "cell_type": "code",
   "execution_count": null,
   "metadata": {},
   "outputs": [],
   "source": [
    "Data['BWZ BG Input (mg/dL)'].value_counts()"
   ]
  },
  {
   "cell_type": "code",
   "execution_count": null,
   "metadata": {},
   "outputs": [],
   "source": []
  },
  {
   "cell_type": "code",
   "execution_count": null,
   "metadata": {},
   "outputs": [],
   "source": [
    "model_pickle = joblib.load('../data/results/model.pkl')\n",
    "new_food = pd.read_csv('../data/results/New_data.csv')\n",
    "new_food\n"
   ]
  },
  {
   "cell_type": "code",
   "execution_count": null,
   "metadata": {},
   "outputs": [],
   "source": [
    "new_food.to_dict()"
   ]
  },
  {
   "cell_type": "code",
   "execution_count": null,
   "metadata": {},
   "outputs": [],
   "source": [
    "new_food_dict = {'Unnamed: 0': {0: 0},\n",
    "                 'Unnamed: 0.1': {0: 16},\n",
    "                 'Basal Rate (U/h)': {0: 2.2},\n",
    "                 'BWZ Estimate (U)': {0: 9.5},\n",
    "                 'BWZ Carb Ratio (U/Ex)': {0: 1.5},\n",
    "                 'BWZ Insulin Sensitivity (mg/dL/U)': {0: 50.0},\n",
    "                 'BWZ Carb Input (exchanges)': {0: 9.5},\n",
    "                 'BWZ BG Input (mg/dL)': {0: 84.0},\n",
    "                 'BWZ Correction Estimate (U)': {0: 0.2},\n",
    "                 'BWZ Food Estimate (U)': {0: input()},\n",
    "                 'BWZ Active Insulin (U)': {0: 0.1},\n",
    "                 'BWZ Unabsorbed Insulin Total (U)': {0: 0.5},\n",
    "                 'day_of_month': {0: 25},\n",
    "                 'day_of_week': {0: 2},\n",
    "                 'month_of_year': {0: 3},\n",
    "                 'hour': {0: 10}}\n"
   ]
  },
  {
   "cell_type": "code",
   "execution_count": null,
   "metadata": {},
   "outputs": [],
   "source": [
    "new_food_dict"
   ]
  },
  {
   "cell_type": "code",
   "execution_count": 92,
   "metadata": {},
   "outputs": [
    {
     "name": "stdout",
     "output_type": "stream",
     "text": [
      "Te debes administrar 14.34 unidades de insulina\n"
     ]
    },
    {
     "name": "stderr",
     "output_type": "stream",
     "text": [
      "/home/emilio/miniconda3/envs/test_env/lib/python3.7/site-packages/sklearn/compose/_column_transformer.py:430: FutureWarning: Given feature/column names or counts do not match the ones for the data given during fit. This will fail from v0.24.\n",
      "  FutureWarning)\n"
     ]
    }
   ],
   "source": [
    "administrar_insulina = model_pickle.predict(new_food)\n",
    "pd.DataFrame(administrar_insulina).to_csv('../data/results/administrar_insulina.csv')\n",
    "print(f'Te debes administrar ' + \n",
    "      pd.DataFrame(administrar_insulina).iloc[0, 0].round(2).astype(str) \n",
    "      + ' unidades de insulina')"
   ]
  },
  {
   "cell_type": "code",
   "execution_count": null,
   "metadata": {},
   "outputs": [],
   "source": []
  },
  {
   "cell_type": "code",
   "execution_count": null,
   "metadata": {},
   "outputs": [],
   "source": []
  }
 ],
 "metadata": {
  "kernelspec": {
   "display_name": "Python 3",
   "language": "python",
   "name": "python3"
  },
  "language_info": {
   "codemirror_mode": {
    "name": "ipython",
    "version": 3
   },
   "file_extension": ".py",
   "mimetype": "text/x-python",
   "name": "python",
   "nbconvert_exporter": "python",
   "pygments_lexer": "ipython3",
   "version": "3.7.5"
  }
 },
 "nbformat": 4,
 "nbformat_minor": 4
}
